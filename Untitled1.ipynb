{
 "cells": [
  {
   "cell_type": "code",
   "execution_count": 4,
   "id": "32e32d28",
   "metadata": {},
   "outputs": [
    {
     "name": "stdout",
     "output_type": "stream",
     "text": [
      "請輸入正整數:100\n"
     ]
    }
   ],
   "source": [
    "sun = 0(\n",
    "n = int (input(\"請輸入正整數:\")))"
   ]
  },
  {
   "cell_type": "code",
   "execution_count": 5,
   "id": "a9719152",
   "metadata": {},
   "outputs": [],
   "source": [
    "for i in range(1, n+1):\n",
    "    sum += i"
   ]
  },
  {
   "cell_type": "code",
   "execution_count": 6,
   "id": "5e51d897",
   "metadata": {},
   "outputs": [
    {
     "name": "stdout",
     "output_type": "stream",
     "text": [
      "1到100的整數和為5050\n"
     ]
    }
   ],
   "source": [
    "print(\"1到%d的整數和為%d\"%(n, sum))"
   ]
  }
 ],
 "metadata": {
  "kernelspec": {
   "display_name": "Python 3 (ipykernel)",
   "language": "python",
   "name": "python3"
  },
  "language_info": {
   "codemirror_mode": {
    "name": "ipython",
    "version": 3
   },
   "file_extension": ".py",
   "mimetype": "text/x-python",
   "name": "python",
   "nbconvert_exporter": "python",
   "pygments_lexer": "ipython3",
   "version": "3.7.16"
  }
 },
 "nbformat": 4,
 "nbformat_minor": 5
}
